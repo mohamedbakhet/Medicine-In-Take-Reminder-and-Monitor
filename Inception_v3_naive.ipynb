{
  "nbformat": 4,
  "nbformat_minor": 0,
  "metadata": {
    "colab": {
      "name": "Inception-v3 naive.ipynb",
      "provenance": [],
      "collapsed_sections": [],
      "authorship_tag": "ABX9TyMQtsy5GC6oppi2Wl0WUwlZ",
      "include_colab_link": true
    },
    "kernelspec": {
      "name": "python3",
      "display_name": "Python 3"
    },
    "language_info": {
      "name": "python"
    }
  },
  "cells": [
    {
      "cell_type": "markdown",
      "metadata": {
        "id": "view-in-github",
        "colab_type": "text"
      },
      "source": [
        "<a href=\"https://colab.research.google.com/github/mohamedbakhet/Medicine-In-Take-Reminder-and-Monitor/blob/master/Inception_v3_naive.ipynb\" target=\"_parent\"><img src=\"https://colab.research.google.com/assets/colab-badge.svg\" alt=\"Open In Colab\"/></a>"
      ]
    },
    {
      "cell_type": "code",
      "metadata": {
        "id": "dF3-jat69mYN"
      },
      "source": [
        "! pip install tensorflow\n",
        "! pip install h5py"
      ],
      "execution_count": null,
      "outputs": []
    },
    {
      "cell_type": "code",
      "metadata": {
        "id": "h3KPM5kP_NZP"
      },
      "source": [
        "from keras.models import model_from_json\n",
        "from google.colab import drive\n",
        "drive.mount('/content/drive', force_remount=True)\n",
        "import numpy as np\n",
        "import pandas as pd\n",
        "from random import shuffle\n",
        "import warnings\n",
        "warnings.filterwarnings('ignore')\n",
        "from keras.layers import Input\n",
        "import seaborn as sns\n",
        "import tensorflow as tf\n",
        "import matplotlib.pyplot as plt\n",
        "from keras import Sequential,models\n",
        "from keras.models import Model\n",
        "from tensorflow.keras import layers\n",
        "from keras.layers import Input\n",
        "from keras.layers import Dense, Conv2D, MaxPool2D , Flatten,MaxPooling2D,Conv1D,MaxPooling1D,add,Activation,GlobalAveragePooling2D,BatchNormalization,ReLU,MaxPool2D,SeparableConv2D,Add,GlobalAvgPool2D\n",
        "#from keras.utils import plot_model\n",
        "from keras.layers.merge import concatenate\n",
        "from keras.utils.np_utils import to_categorical\n",
        "import os,keras\n",
        "from keras.optimizers import Adam\n",
        "from sklearn.preprocessing import LabelBinarizer\n",
        "from sklearn.preprocessing import LabelEncoder\n",
        "from sklearn.metrics import classification_report\n"
      ],
      "execution_count": null,
      "outputs": []
    },
    {
      "cell_type": "code",
      "metadata": {
        "id": "W_DCOiBU_PQd"
      },
      "source": [
        "#load train data set\n",
        "training_data=[]\n",
        "for index,value in enumerate (os.listdir('/content/drive/MyDrive/train_data')): #path to the data set on google drive\n",
        "  print(value)\n",
        "  lis=np.load('/content/drive/MyDrive/train_data/'+value)\n",
        "  for j in lis[:1600]:\n",
        "    training_data.append([np.array(j),value[:-4]])\n",
        "shuffle(training_data)\n",
        "\n",
        "#load test data set\n",
        "test_data=[]\n",
        "for index,value in enumerate (os.listdir('/content/drive/MyDrive/train_data')):\n",
        "  print(value)\n",
        "  lis=np.load('/content/drive/MyDrive/train_data/'+value)\n",
        "  for j in lis[:400]:\n",
        "    test_data.append([np.array(j),value[:-4]])\n",
        "shuffle(test_data)"
      ],
      "execution_count": null,
      "outputs": []
    },
    {
      "cell_type": "code",
      "metadata": {
        "id": "dYkLqonl_ZGL"
      },
      "source": [
        "#split data into train_test & encoding target\n",
        "\n",
        "X_train = np.array([i[0] for i in training_data]).reshape(-1,300,15,1)\n",
        "Y_train = np.array([i[1] for i in training_data])\n",
        "train_labels_set = np.unique(Y_train,axis=0)\n",
        "train_labels = LabelEncoder()\n",
        "train_labels = train_labels.fit(Y_train)\n",
        "Y_train = to_categorical(train_labels.transform(Y_train))\n",
        "\n",
        "X_test = np.array([i[0] for i in test_data]).reshape(-1,300,15,1)\n",
        "Y_test = np.array([i[1] for i in test_data])\n",
        "test_labels_set = np.unique(Y_test,axis=0)\n",
        "test_labels = LabelEncoder()\n",
        "test_labels = test_labels.fit(Y_test)\n",
        "Y_test = to_categorical(test_labels.transform(Y_test))"
      ],
      "execution_count": null,
      "outputs": []
    },
    {
      "cell_type": "code",
      "metadata": {
        "id": "LkUipjV2AAG_"
      },
      "source": [
        "#Inception-v3 naive\n",
        "input_shape = Input(shape=(300, 15, 1))\n",
        "\n",
        "### 1st layer\n",
        "layer_1 = Conv2D(10, (1,1), padding='same', activation='relu')(input_shape)\n",
        "layer_1 = Conv2D(10, (3,3), padding='same', activation='relu')(layer_1)\n",
        "\n",
        "layer_2 = Conv2D(10, (1,1), padding='same', activation='relu')(input_shape)\n",
        "layer_2 = Conv2D(10, (5,5), padding='same', activation='relu')(layer_2)\n",
        "\n",
        "layer_3 = MaxPooling2D((3,3), strides=(1,1), padding='same')(input_shape)\n",
        "layer_3 = Conv2D(10, (1,1), padding='same', activation='relu')(layer_3)\n",
        "\n",
        "mid_1 = tf.keras.layers.concatenate([layer_1, layer_2, layer_3], axis = 3)\n",
        "\n",
        "flat_1 = Flatten()(mid_1)\n",
        "\n",
        "dense_1 = Dense(512, activation='relu')(flat_1)\n",
        "dense_2 = Dense(256, activation='relu')(dense_1)\n",
        "dense_3 = Dense(128, activation='relu')(dense_2)\n",
        "dense_4 = Dense(64, activation='relu')(dense_3)\n",
        "output = Dense(14, activation='softmax')(dense_4)\n",
        "\n",
        "model = Model([input_shape], output)\n"
      ],
      "execution_count": null,
      "outputs": []
    },
    {
      "cell_type": "code",
      "metadata": {
        "id": "iKKDY6IxANfX"
      },
      "source": [
        "#get the gpu name \n",
        "device_name = tf.test.gpu_device_name() #you can ignore this if don't have to use the gpu during the training proccess"
      ],
      "execution_count": null,
      "outputs": []
    },
    {
      "cell_type": "code",
      "metadata": {
        "id": "fvGaRBEm_uRU"
      },
      "source": [
        "opt = Adam(lr=0.001)\n",
        "model.compile(optimizer=opt, loss=keras.losses.categorical_crossentropy, metrics=['accuracy'])\n",
        "with tf.device(device_name): #in case that you skipped the gpu device comment these two lines and uncomment the last one and run\n",
        "  hist = model.fit(X_train, Y_train, epochs=10,validation_data=(X_test,Y_test))\n",
        "#hist = model.fit(X_train, Y_train, epochs=10,validation_data=(X_test,Y_test))"
      ],
      "execution_count": null,
      "outputs": []
    },
    {
      "cell_type": "code",
      "metadata": {
        "id": "LeX_ECSLD7zM"
      },
      "source": [
        "# serialize model to JSON\n",
        "model_json = model.to_json()\n",
        "with open(\"Inception-v3 naive.json\", \"w\") as json_file:\n",
        "    json_file.write(model_json)\n",
        "# serialize weights to HDF5\n",
        "model.save_weights(\"Inception-v3 naive.h5\")"
      ],
      "execution_count": null,
      "outputs": []
    },
    {
      "cell_type": "code",
      "metadata": {
        "id": "FkEwxh55EEny"
      },
      "source": [
        "# load json and create model\n",
        "json_file = open('Inception-v3 naive.json', 'r')\n",
        "loaded_model_json = json_file.read()\n",
        "json_file.close()\n",
        "loaded_model = model_from_json(loaded_model_json)\n",
        "# load weights into new model\n",
        "loaded_model.load_weights(\"Inception-v3 naive.h5\")"
      ],
      "execution_count": null,
      "outputs": []
    },
    {
      "cell_type": "code",
      "metadata": {
        "id": "mYT8x1ZfEqD7"
      },
      "source": [
        "#to evaluate the model\n",
        "opt = Adam(lr=0.001)\n",
        "loaded_model.compile(optimizer=opt, loss=keras.losses.categorical_crossentropy, metrics=['accuracy'])\n",
        "y_predict = loaded_model.predict(X_test)\n",
        "print(classification_report(Y_test.argmax(axis=1),y_predict.argmax(axis=1),target_names=test_labels_set))"
      ],
      "execution_count": null,
      "outputs": []
    }
  ]
}