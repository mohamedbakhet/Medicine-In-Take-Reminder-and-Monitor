{
  "nbformat": 4,
  "nbformat_minor": 0,
  "metadata": {
    "colab": {
      "name": "VGG16-1D.ipynb",
      "provenance": [],
      "collapsed_sections": [],
      "authorship_tag": "ABX9TyM23qkFshgzuXgodiyMmUEG",
      "include_colab_link": true
    },
    "kernelspec": {
      "name": "python3",
      "display_name": "Python 3"
    },
    "language_info": {
      "name": "python"
    }
  },
  "cells": [
    {
      "cell_type": "markdown",
      "metadata": {
        "id": "view-in-github",
        "colab_type": "text"
      },
      "source": [
        "<a href=\"https://colab.research.google.com/github/mohamedbakhet/Medicine-In-Take-Reminder-and-Monitor/blob/master/VGG16_1D.ipynb\" target=\"_parent\"><img src=\"https://colab.research.google.com/assets/colab-badge.svg\" alt=\"Open In Colab\"/></a>"
      ]
    },
    {
      "cell_type": "code",
      "metadata": {
        "id": "ooHEIS0x9ffQ"
      },
      "source": [
        "! pip install tensorflow\n",
        "! pip install h5py"
      ],
      "execution_count": null,
      "outputs": []
    },
    {
      "cell_type": "code",
      "metadata": {
        "id": "WeEpJWQT_LA2",
        "colab": {
          "base_uri": "https://localhost:8080/"
        },
        "outputId": "9c43d7d3-f779-46e4-9169-a8a53f9f5f1d"
      },
      "source": [
        "from keras.models import model_from_json\n",
        "from google.colab import drive\n",
        "drive.mount('/content/drive', force_remount=True)\n",
        "import numpy as np\n",
        "import os\n",
        "import keras\n",
        "from keras import layers,models\n",
        "from keras.layers import Input\n",
        "from keras.models import Sequential, Model,load_model\n",
        "from keras.callbacks import EarlyStopping,ModelCheckpoint\n",
        "from keras.layers import Input, Add, Dense, Activation, ZeroPadding2D, BatchNormalization, Flatten\n"
      ],
      "execution_count": null,
      "outputs": [
        {
          "output_type": "stream",
          "text": [
            "Mounted at /content/drive\n"
          ],
          "name": "stdout"
        }
      ]
    },
    {
      "cell_type": "code",
      "metadata": {
        "id": "8X-Du50J_R4L"
      },
      "source": [
        "#load train data set\n",
        "training_data=[]\n",
        "for index,value in enumerate (os.listdir('/content/drive/MyDrive/train_data')): #path to the data set on google drive\n",
        "  print(value)\n",
        "  lis=np.load('/content/drive/MyDrive/train_data/'+value)\n",
        "  for j in lis[:1600]:\n",
        "    training_data.append([np.array(j),value[:-4]])\n",
        "shuffle(training_data)\n",
        "\n",
        "#load test data set\n",
        "test_data=[]\n",
        "for index,value in enumerate (os.listdir('/content/drive/MyDrive/train_data')):\n",
        "  print(value)\n",
        "  lis=np.load('/content/drive/MyDrive/train_data/'+value)\n",
        "  for j in lis[:400]:\n",
        "    test_data.append([np.array(j),value[:-4]])\n",
        "shuffle(test_data)"
      ],
      "execution_count": null,
      "outputs": []
    },
    {
      "cell_type": "code",
      "metadata": {
        "id": "Xp8odJ4T_WS1"
      },
      "source": [
        "#split data into train_test & encoding target\n",
        "\n",
        "X_train = np.array([i[0] for i in training_data]).reshape(-1,300,15,1)\n",
        "Y_train = np.array([i[1] for i in training_data])\n",
        "train_labels_set = np.unique(Y_train,axis=0)\n",
        "train_labels = LabelEncoder()\n",
        "train_labels = train_labels.fit(Y_train)\n",
        "Y_train = to_categorical(train_labels.transform(Y_train))\n",
        "\n",
        "X_test = np.array([i[0] for i in test_data]).reshape(-1,300,15,1)\n",
        "Y_test = np.array([i[1] for i in test_data])\n",
        "test_labels_set = np.unique(Y_test,axis=0)\n",
        "test_labels = LabelEncoder()\n",
        "test_labels = test_labels.fit(Y_test)\n",
        "Y_test = to_categorical(test_labels.transform(Y_test))"
      ],
      "execution_count": null,
      "outputs": []
    },
    {
      "cell_type": "code",
      "metadata": {
        "id": "P3VSr3TA_ztN"
      },
      "source": [
        "#VGG16-1D\n",
        "img_input = Input(shape=(300,15))\n",
        "# Block 1\n",
        "x = layers.Conv1D(64, 3,\n",
        "                  activation='relu',\n",
        "                  padding='same',\n",
        "                  name='block1_conv1')(img_input)\n",
        "x = layers.Conv1D(64, 3,\n",
        "                  activation='relu',\n",
        "                  padding='same',\n",
        "                  name='block1_conv2')(x)\n",
        "x = layers.MaxPooling1D(2, strides=2, name='block1_pool', padding='same')(x)\n",
        "\n",
        "# Block 2\n",
        "x = layers.Conv1D(128, 3,\n",
        "                  activation='relu',\n",
        "                  padding='same',\n",
        "                  name='block2_conv1')(x)\n",
        "x = layers.Conv1D(128, 3,\n",
        "                  activation='relu',\n",
        "                  padding='same',\n",
        "                  name='block2_conv2')(x)\n",
        "x = layers.MaxPooling1D(2, strides=2, name='block2_pool', padding='same')(x)\n",
        "\n",
        "# Block 3\n",
        "x = layers.Conv1D(256,3 ,\n",
        "                  activation='relu',\n",
        "                  padding='same',\n",
        "                  name='block3_conv1')(x)\n",
        "x = layers.Conv1D(256, 3,\n",
        "                  activation='relu',\n",
        "                  padding='same',\n",
        "                  name='block3_conv2')(x)\n",
        "x = layers.Conv1D(256, 3,\n",
        "                  activation='relu',\n",
        "                  padding='same',\n",
        "                  name='block3_conv3')(x)\n",
        "x = layers.MaxPooling1D(2, strides=2, name='block3_pool', padding='same')(x)\n",
        "\n",
        "# Block 4\n",
        "x = layers.Conv1D(512, 3,\n",
        "                  activation='relu',\n",
        "                  padding='same',\n",
        "                  name='block4_conv1')(x)\n",
        "x = layers.Conv1D(512, 3,\n",
        "                  activation='relu',\n",
        "                  padding='same',\n",
        "                  name='block4_conv2')(x)\n",
        "x = layers.Conv1D(512, 3,\n",
        "                  activation='relu',\n",
        "                  padding='same',\n",
        "                  name='block4_conv3')(x)\n",
        "x = layers.MaxPooling1D(2, strides=2, name='block4_pool', padding='same')(x)\n",
        "\n",
        "# Block 5\n",
        "x = layers.Conv1D(512, 3,\n",
        "                  activation='relu',\n",
        "                  padding='same',\n",
        "                  name='block5_conv1')(x)\n",
        "x = layers.Conv1D(512, 3,\n",
        "                  activation='relu',\n",
        "                  padding='same',\n",
        "                  name='block5_conv2')(x)\n",
        "x = layers.Conv1D(512, 3,\n",
        "                  activation='relu',\n",
        "                  padding='same',\n",
        "                  name='block5_conv3')(x)\n",
        "x = layers.MaxPooling1D(2, strides=2, name='block5_pool', padding='same')(x)\n",
        "\n",
        "# Classification block\n",
        "x = layers.Flatten(name='flatten')(x)\n",
        "x = layers.Dense(128, activation='relu', name='fc1')(x) # reduced dim for 1-d task\n",
        "x = layers.Dense(128, activation='relu', name='fc2')(x)\n",
        "x = layers.Dense(14, activation='softmax', name='predictions')(x)\n",
        "\n",
        "\n",
        "# Create model.\n",
        "model = models.Model(img_input, x, name='vgg16')"
      ],
      "execution_count": null,
      "outputs": []
    },
    {
      "cell_type": "code",
      "metadata": {
        "id": "rsHVU_W5AKoG"
      },
      "source": [
        "#get the gpu name \n",
        "device_name = tf.test.gpu_device_name() #you can ignore this if don't have to use the gpu during the training proccess"
      ],
      "execution_count": null,
      "outputs": []
    },
    {
      "cell_type": "code",
      "metadata": {
        "id": "-Pg-4Bmm_rhV"
      },
      "source": [
        "opt = Adam(lr=0.001)\n",
        "model.compile(optimizer=opt, loss=keras.losses.categorical_crossentropy, metrics=['accuracy'])\n",
        "with tf.device(device_name): #in case that you skipped the gpu device comment these two lines and uncomment the last one and run\n",
        "  hist = model.fit(X_train, Y_train, epochs=10,validation_data=(X_test,Y_test))\n",
        "#hist = model.fit(X_train, Y_train, epochs=10,validation_data=(X_test,Y_test))"
      ],
      "execution_count": null,
      "outputs": []
    },
    {
      "cell_type": "code",
      "metadata": {
        "id": "RbfVdoxAD5ZP"
      },
      "source": [
        "# serialize model to JSON\n",
        "model_json = model.to_json()\n",
        "with open(\"VGG16-1D.json\", \"w\") as json_file:\n",
        "    json_file.write(model_json)\n",
        "# serialize weights to HDF5\n",
        "model.save_weights(\"VGG16-1D.h5\")"
      ],
      "execution_count": null,
      "outputs": []
    },
    {
      "cell_type": "code",
      "metadata": {
        "id": "50uFJpksECYJ"
      },
      "source": [
        "# load json and create model\n",
        "json_file = open('VGG16-1D.json', 'r')\n",
        "loaded_model_json = json_file.read()\n",
        "json_file.close()\n",
        "loaded_model = model_from_json(loaded_model_json)\n",
        "# load weights into new model\n",
        "loaded_model.load_weights(\"VGG16-1D.h5\")"
      ],
      "execution_count": null,
      "outputs": []
    },
    {
      "cell_type": "code",
      "metadata": {
        "id": "2yXMwQr2Enxv"
      },
      "source": [
        "#to evaluate the model\n",
        "opt = Adam(lr=0.001)\n",
        "loaded_model.compile(optimizer=opt, loss=keras.losses.categorical_crossentropy, metrics=['accuracy'])\n",
        "y_predict = loaded_model.predict(X_test)\n",
        "print(classification_report(Y_test.argmax(axis=1),y_predict.argmax(axis=1),target_names=test_labels_set))"
      ],
      "execution_count": null,
      "outputs": []
    }
  ]
}